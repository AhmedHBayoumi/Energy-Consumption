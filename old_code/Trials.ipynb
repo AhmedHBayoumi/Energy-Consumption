{
 "cells": [
  {
   "cell_type": "markdown",
   "metadata": {},
   "source": [
    "### Energy Consumption Prediction Project:"
   ]
  },
  {
   "cell_type": "code",
   "execution_count": 1,
   "metadata": {},
   "outputs": [],
   "source": [
    "#Importing modules:\n",
    "\n",
    "import pandas as pd\n",
    "import numpy as np\n",
    "import matplotlib.pyplot as plt\n",
    "from sklearn import linear_model\n",
    "from sklearn.linear_model import LinearRegression\n",
    "from sklearn.metrics import mean_squared_error, r2_score\n",
    "from sklearn.preprocessing import PolynomialFeatures\n",
    "from sklearn.pipeline import make_pipeline"
   ]
  },
  {
   "cell_type": "code",
   "execution_count": 2,
   "metadata": {},
   "outputs": [],
   "source": [
    "#Reading data:\n",
    "\n",
    "df = pd.read_csv('D:\\ML\\Project\\data/consumption.csv')\n",
    "weather_avg = pd.read_csv('D:\\ML\\Project\\data\\weather-avg.csv')\n",
    "weather_min = pd.read_csv('D:\\ML\\Project\\data\\weather-min.csv')\n",
    "weather_max = pd.read_csv('D:\\ML\\Project\\data\\weather-max.csv')\n",
    "info = pd.read_csv('D:\\ML\\Project\\data\\info.csv')"
   ]
  },
  {
   "cell_type": "code",
   "execution_count": 3,
   "metadata": {},
   "outputs": [],
   "source": [
    "# Sorting according to \"meter_id\" index, first step: making \"meter_id\" the index:\n",
    "\n",
    "\"\"\" \n",
    "make meter_id the index, if this is not used all data will be\n",
    "erased because the default index is from 0 to 3248ish.\n",
    "\"\"\"\n",
    "\n",
    "weather_avg = weather_avg.set_index(\"meter_id\")\n",
    "weather_min = weather_min.set_index(\"meter_id\")\n",
    "weather_max = weather_max.set_index(\"meter_id\")\n",
    "info = info.set_index(\"meter_id\")\n",
    "\n",
    "#Then, sort accordin to that index:\n",
    "\n",
    "weather_avg_sorted = weather_avg.reindex(df.iloc[:,0])\n",
    "weather_min_sorted = weather_min.reindex(df.iloc[:,0])\n",
    "weather_max_sorted = weather_max.reindex(df.iloc[:,0])\n",
    "info_sorted = info.reindex(df.iloc[:,0])\n",
    "# in case you want to drop extra rows that were added automatically after using reindex:\n",
    "# info_sorted.dropna()"
   ]
  },
  {
   "cell_type": "code",
   "execution_count": 4,
   "metadata": {},
   "outputs": [],
   "source": [
    "# Functions:\n",
    "\n",
    "def get_monthi(n):\n",
    "    begin=48*31*(n-1)+1\n",
    "    end=48*31*n\n",
    "    if n==1:\n",
    "        begin=1\n",
    "    if n>1:\n",
    "        end-=3*48\n",
    "    if n>2:\n",
    "        begin-=3*48\n",
    "    if n>3:\n",
    "        end-=48\n",
    "    if n>4:\n",
    "        begin-=48\n",
    "    if n>5:\n",
    "        end-=48\n",
    "    if n>6:\n",
    "        begin-=48\n",
    "    if n>8:\n",
    "        end-=48\n",
    "    if n>9:\n",
    "        begin-=48\n",
    "    if n>10:\n",
    "        end-=48\n",
    "    if n>11:\n",
    "        begin-=48\n",
    "    return begin,end\n",
    "\n",
    "\n",
    "def get_mean_temp(row,month):\n",
    "    \"\"\"\n",
    "    row: is the row (meter_id) we would like to get the average temperature for.\n",
    "    month: which month (columns) we would get the average temperature for.\n",
    "    returns: the average temperature for a specific meter_id for a specific month.\n",
    "    \"\"\"\n",
    "    if month==1:\n",
    "        return row.loc[:,\"2017-01-01 00:00:00\":\"2017-01-31 00:00:00\"].mean(1)\n",
    "    elif month==2:\n",
    "        return row.loc[:,\"2017-02-01 00:00:00\":\"2017-02-28 00:00:00\"].mean(1)\n",
    "    elif month==3:\n",
    "        return row.loc[:,\"2017-03-01 00:00:00\":\"2017-03-31 00:00:00\"].mean(1)\n",
    "    elif month==4:\n",
    "        return row.loc[:,\"2017-04-01 00:00:00\":\"2017-04-30 00:00:00\"].mean(1)\n",
    "    elif month==5:\n",
    "        return row.loc[:,\"2017-05-01 00:00:00\":\"2017-05-31 00:00:00\"].mean(1)\n",
    "    elif month==6:\n",
    "        return row.loc[:,\"2017-06-01 00:00:00\":\"2017-06-30 00:00:00\"].mean(1)\n",
    "    elif month==7:\n",
    "        return row.loc[:,\"2017-07-01 00:00:00\":\"2017-07-31 00:00:00\"].mean(1)\n",
    "    elif month==8:\n",
    "        return row.loc[:,\"2017-08-01 00:00:00\":\"2017-08-31 00:00:00\"].mean(1)\n",
    "    elif month==9:\n",
    "        return row.loc[:,\"2017-09-01 00:00:00\":\"2017-09-30 00:00:00\"].mean(1)\n",
    "    elif month==10:\n",
    "        return row.loc[:,\"2017-10-01 00:00:00\":\"2017-10-31 00:00:00\"].mean(1)\n",
    "    elif month==11:\n",
    "        return row.loc[:,\"2017-11-01 00:00:00\":\"2017-11-30 00:00:00\"].mean(1)\n",
    "    elif month==12:\n",
    "        return row.loc[:,\"2017-12-01 00:00:00\":\"2017-12-31 00:00:00\"].mean(1)\n",
    "    else:\n",
    "        print(\"Error: this is not a valid input for month\")"
   ]
  },
  {
   "cell_type": "code",
   "execution_count": 5,
   "metadata": {},
   "outputs": [],
   "source": [
    "# Naive Drift:\n",
    "\n",
    "pli=False #print log info\n",
    "NaN_t=1200 #NaN threshold (entire month has 48*30= 1440 datapoint)->\n",
    "# we want atleast 1/7th of a month of data in this case\n",
    "totSSE=0\n",
    "nSSE=0\n",
    "\n",
    "\n",
    "# loop over all meter ids\n",
    "for i in range(0,df.shape[0]):\n",
    "    #load row\n",
    "    meter=df.iloc[i]  #row.\n",
    "    fmf=False #first month found -> this variable is needed because naive drift needs 2 data points\n",
    "    \n",
    "    # loop over all months\n",
    "    for m in range (1,13):\n",
    "        ind_b,ind_e=get_monthi(m)               #get index of beginning and end of month\n",
    "        month=meter[ind_b:ind_e]\n",
    "\n",
    "        # Check if months has numeric values        \n",
    "        n_NaN=month.isnull().sum() #Number of NaN's\n",
    "        if n_NaN<NaN_t:\n",
    "            mean_month=month.mean()\n",
    "            \n",
    "            #determine naive drift\n",
    "            if fmf:\n",
    "                ndrift=2*mean_month-last_month #last_month is the mean of the \n",
    "                #month just before mean_month.\n",
    "                #evaluate prediction\n",
    "                if m <12:\n",
    "                    next_ind_b,next_ind_e=get_monthi(m+1) \n",
    "                    next_month=meter[next_ind_b:next_ind_e]\n",
    "                    mnm=next_month.mean()         #mean next month\n",
    "                    SSE=(mnm-ndrift)**2\n",
    "                    totSSE+=SSE\n",
    "                    nSSE+=1\n",
    "                    if pli:\n",
    "                        print(\"i=%i m=%i SSE=%f\" % (i, m, SSE))\n",
    "            else:\n",
    "                fmf=True\n",
    "            \n",
    "            last_month=mean_month\n",
    "              \n",
    "        \n",
    "        if pli:     \n",
    "            print(\"Current month is %i\" % m)\n",
    "            print(\"Amount of NaN found %i\" %n_NaN)"
   ]
  },
  {
   "cell_type": "code",
   "execution_count": 6,
   "metadata": {
    "scrolled": true
   },
   "outputs": [
    {
     "name": "stdout",
     "output_type": "stream",
     "text": [
      "0.06684300400401268\n",
      "0.004467987184280454\n"
     ]
    }
   ],
   "source": [
    "#Performance of Naive Drift:\n",
    "\n",
    "RMSE=np.sqrt(totSSE/nSSE)\n",
    "SSE=totSSE/nSSE\n",
    "print(RMSE)\n",
    "print(SSE)\n",
    "\n",
    "# RMSE=0.06684300400401268 Average half hourly consumption of \n",
    "# a month is between 0.16 and 0.30. Then our relative error is about 20 to 37.5 %"
   ]
  },
  {
   "cell_type": "code",
   "execution_count": 26,
   "metadata": {},
   "outputs": [
    {
     "name": "stdout",
     "output_type": "stream",
     "text": [
      "number of users with+NaN bedroom info =  3248\n",
      "number of users with NaN bedroom info =  1389\n",
      "percentage of NaN values in num_bedrooms =  0.42764778325123154\n",
      "(21074, 4)\n"
     ]
    }
   ],
   "source": [
    "brinfo=info_sorted['num_bedrooms']\n",
    "br_NaNs_number = brinfo.isnull().sum()\n",
    "print(\"number of users with+NaN bedroom info = \", brinfo.shape[0])\n",
    "print(\"number of users with NaN bedroom info = \", br_NaNs_number)\n",
    "print(\"percentage of NaN values in num_bedrooms = \", br_NaNs_number/brinfo.shape[0])\n",
    "print(np_features.shape)"
   ]
  },
  {
   "cell_type": "code",
   "execution_count": 27,
   "metadata": {},
   "outputs": [],
   "source": [
    "# Removing data with # NaN values > NaN threshold NaN_t\n",
    "\n",
    "# thresholding the values with NaN values > NaN_t to arrange the bedroom data.\n",
    "# We discarded the users with threshold < 1200 for the consumption and temperature data.\n",
    "\n",
    "temps=[]\n",
    "temps_min=[]\n",
    "temps_max=[]\n",
    "En_con=[]\n",
    "month_arr=[]\n",
    "NaN_t=1200\n",
    "\n",
    "for i in range(df.shape[0]): # loop over all users\n",
    "    \n",
    "    meter=df.iloc[i] # = row number i  \n",
    "    row = brinfo[i:i+1]\n",
    "\n",
    "    for m in range (1,13): # loop over all months\n",
    "        begin_index, end_index =get_monthi(m)               #get index of beginning and end of month\n",
    "        month=meter[begin_index:end_index] #data for the month m for the row user (row) i\n",
    "\n",
    "        # Check if months have numeric values otherwise discard the month for this user.       \n",
    "        n_NaN=month.isnull().sum() #Number of NaN's\n",
    "        if n_NaN<NaN_t:\n",
    "            temps.append(get_mean_temp(weather_avg_sorted.iloc[i:i+1],m))\n",
    "            temps_min.append(get_mean_temp(weather_min_sorted.iloc[i:i+1],m))\n",
    "            temps_max.append(get_mean_temp(weather_max_sorted.iloc[i:i+1],m))\n",
    "            En_con.append(month.mean())\n",
    "            month_arr.append(m) \n",
    "            # = number of data points = the months that passed threshold for each user.\n",
    "            br_arr.append(row[0])"
   ]
  },
  {
   "cell_type": "markdown",
   "metadata": {},
   "source": [
    "print(df.shape) # = 3248 * 17251\n",
    "\n",
    "len(month_arr) # = 21074, those are the ones that passes our threshold from (12 months * 3248 users)\n",
    "\n",
    "temps = [user1 average jan temp, user1 average feb temp, ... , user 1 average dec temp, user 2 average jan temp, ... user 2 average dec temp, ... user 21074 average temp].\n",
    "\n",
    "all matrices same concept, but change temp with respective variable."
   ]
  },
  {
   "cell_type": "code",
   "execution_count": 8,
   "metadata": {},
   "outputs": [],
   "source": [
    "# converting list to numpy arrays: \n",
    "\n",
    "nptemps = np.zeros(len(temps))\n",
    "nptemps_min = np.zeros(len(temps_min))\n",
    "nptemps_max = np.zeros(len(temps_max))\n",
    "npEn_con = np.zeros(len(En_con))\n",
    "npmonth_arr = np.zeros(len(month_arr))\n",
    "\n",
    "for i in range(len(temps)):\n",
    "     nptemps[i] = temps[i]\n",
    "\n",
    "for i in range(len(temps_min)):\n",
    "     nptemps_min[i] = temps_min[i]\n",
    "\n",
    "for i in range(len(temps_max)):\n",
    "     nptemps_max[i] = temps_max[i]\n",
    "\n",
    "for i in range(len(En_con)):\n",
    "     npEn_con[i] = En_con[i]\n",
    "\n",
    "for i in range(len(month_arr)):\n",
    "     npmonth_arr[i] = month_arr[i]"
   ]
  },
  {
   "cell_type": "code",
   "execution_count": 9,
   "metadata": {},
   "outputs": [
    {
     "data": {
      "image/png": "[encoded data removed]",
      "text/plain": [
       "<Figure size 432x288 with 1 Axes>"
      ]
     },
     "metadata": {
      "needs_background": "light"
     },
     "output_type": "display_data"
    }
   ],
   "source": [
    "#Plotting the data: \n",
    "plt.scatter(nptemps,npEn_con, color = 'black')\n",
    "plt.xlabel(\"average temperatures for all users\")\n",
    "plt.ylabel(\"average consumption for all users\")\n",
    "plt.grid()"
   ]
  },
  {
   "cell_type": "markdown",
   "metadata": {},
   "source": [
    "### Univariate linear regression\n",
    "\n",
    "Creating 3 separate univariate linear regression as a function of average temperature, min, max."
   ]
  },
  {
   "cell_type": "code",
   "execution_count": 10,
   "metadata": {},
   "outputs": [
    {
     "name": "stdout",
     "output_type": "stream",
     "text": [
      "Coefficients: \n",
      " [[-0.00831305]]\n",
      "Mean squared error: 0.02165862\n",
      "Mean squared error min: 0.02170810\n",
      "Mean squared error max: 0.02164935\n",
      "Coefficient of determination: 0.05\n"
     ]
    }
   ],
   "source": [
    "# Split the data into training/testing sets\n",
    "#X_train = nptemps[:-2000] # all elements except last 2000 = 90% training set.\n",
    "X_train = nptemps[:-6322] #70% trainning set\n",
    "X_train = X_train.reshape(-1,1)\n",
    "\n",
    "X_test = nptemps[-6322:] #  last 6322 elements are the test set\n",
    "X_test = X_test.reshape(-1,1)\n",
    "                       \n",
    "X_train_min = nptemps_min[:-6322]\n",
    "X_train_min = X_train_min.reshape(-1,1)\n",
    "\n",
    "X_test_min = nptemps_min[-6322:]\n",
    "X_test_min = X_test_min.reshape(-1,1)\n",
    "\n",
    "X_train_max = nptemps_max[:-6322]\n",
    "X_train_max = X_train_max.reshape(-1,1)\n",
    "\n",
    "X_test_max = nptemps_max[-6322:]\n",
    "X_test_max = X_test_max.reshape(-1,1)\n",
    "# Split the targets into training/testing sets\n",
    "y_train = npEn_con[:-6322]\n",
    "y_train = npEn_con[:-6322].reshape(-1,1)\n",
    "\n",
    "y_test = npEn_con[-6322:]\n",
    "y_test = y_test.reshape(-1,1)\n",
    "\n",
    "# Create linear regression object\n",
    "regr = linear_model.LinearRegression()\n",
    "regr_min= linear_model.LinearRegression()\n",
    "regr_max= linear_model.LinearRegression()\n",
    "\n",
    "# Train the model using the training sets\n",
    "regr.fit(X_train, y_train)\n",
    "regr_min.fit(X_train_min, y_train)\n",
    "regr_max.fit(X_train_max, y_train)\n",
    "\n",
    "# Make predictions using the testing set\n",
    "y_pred = regr.predict(X_test)\n",
    "y_pred_min = regr_min.predict(X_test_min)\n",
    "y_pred_max = regr_max.predict(X_test_max)\n",
    "\n",
    "# The coefficients\n",
    "print('Coefficients: \\n', regr.coef_)\n",
    "# The mean squared error\n",
    "print('Mean squared error: %.8f'\n",
    "      % mean_squared_error(y_test, y_pred))\n",
    "print('Mean squared error min: %.8f'\n",
    "      % mean_squared_error(y_test, y_pred_min))\n",
    "print('Mean squared error max: %.8f'\n",
    "      % mean_squared_error(y_test, y_pred_max))\n",
    "# The coefficient of determination: 1 is perfect prediction\n",
    "print('Coefficient of determination: %.2f'\n",
    "      % r2_score(y_test, y_pred))"
   ]
  },
  {
   "cell_type": "code",
   "execution_count": 11,
   "metadata": {},
   "outputs": [
    {
     "data": {
      "image/png": "[encoded data removed]",
      "text/plain": [
       "<Figure size 432x288 with 1 Axes>"
      ]
     },
     "metadata": {
      "needs_background": "light"
     },
     "output_type": "display_data"
    }
   ],
   "source": [
    "# Plot outputs\n",
    "plt.scatter(X_test, y_test,  color='black')\n",
    "plt.plot(X_test, y_pred, color='blue', linewidth=3)\n",
    "plt.xlabel(\"Average temperature\")\n",
    "plt.ylabel(\"Energy consumption\")\n",
    "\n",
    "\n",
    "plt.show()"
   ]
  },
  {
   "cell_type": "markdown",
   "metadata": {},
   "source": [
    "### Combine temps for multi linear model"
   ]
  },
  {
   "cell_type": "code",
   "execution_count": 12,
   "metadata": {},
   "outputs": [],
   "source": [
    "np_combinedtemps= np.zeros(shape = (len(temps), 3))\n",
    "\n",
    "for i in range(len(temps)):\n",
    "    \n",
    "    np_combinedtemps[i, 0] = temps[i]\n",
    "    np_combinedtemps[i, 1] = temps_min[i]\n",
    "    np_combinedtemps[i, 2]  = temps_max[i]"
   ]
  },
  {
   "cell_type": "code",
   "execution_count": 13,
   "metadata": {},
   "outputs": [
    {
     "name": "stdout",
     "output_type": "stream",
     "text": [
      "Coefficients: \n",
      " [[-0.00831305]]\n",
      "Mean squared error: 0.02164496\n",
      "Coefficient of determination: 0.05\n"
     ]
    }
   ],
   "source": [
    "#Training:\n",
    "\n",
    "# Split the data into training/testing sets\n",
    "X_train_comb = np_combinedtemps[:-6322]\n",
    "X_test_comb = np_combinedtemps[-6322:]\n",
    "\n",
    "# Split the targets into training/testing sets\n",
    "y_train = npEn_con[:-6322]\n",
    "y_test = npEn_con[-6322:]\n",
    "\n",
    "\n",
    "# Create linear regression object\n",
    "regr_comb = linear_model.LinearRegression()\n",
    "\n",
    "# Train the model using the training sets\n",
    "regr_comb.fit(X_train_comb, y_train)\n",
    "\n",
    "\n",
    "# Make predictions using the testing set\n",
    "y_pred_comb = regr_comb.predict(X_test_comb)\n",
    "\n",
    "\n",
    "# The coefficients\n",
    "print('Coefficients: \\n', regr.coef_)\n",
    "# The mean squared error\n",
    "print('Mean squared error: %.8f'\n",
    "      % mean_squared_error(y_test, y_pred_comb))\n",
    "# The coefficient of determination: 1 is perfect prediction\n",
    "print('Coefficient of determination: %.2f'\n",
    "      % r2_score(y_test, y_pred_comb))"
   ]
  },
  {
   "cell_type": "code",
   "execution_count": 14,
   "metadata": {},
   "outputs": [
    {
     "data": {
      "image/png": "[encoded data removed]",
      "text/plain": [
       "<Figure size 432x288 with 1 Axes>"
      ]
     },
     "metadata": {
      "needs_background": "light"
     },
     "output_type": "display_data"
    }
   ],
   "source": [
    "# Plot outputs\n",
    "plt.scatter(X_test, y_test,  color='black', label =\"data\")\n",
    "plt.plot(X_test, y_pred_comb, color='blue',  label = \"regression\")\n",
    "plt.legend()\n",
    "plt.xlabel(\"temperatures\")\n",
    "plt.ylabel(\"consumption\")\n",
    "plt.show()"
   ]
  },
  {
   "cell_type": "markdown",
   "metadata": {},
   "source": [
    "### Including the months in the model's training set:"
   ]
  },
  {
   "cell_type": "code",
   "execution_count": 15,
   "metadata": {},
   "outputs": [],
   "source": [
    "np_features= np.zeros(shape = (len(temps), 4))\n",
    "\n",
    "for i in range(len(temps)):\n",
    "    \n",
    "    np_features[i, 0] = temps[i]\n",
    "    np_features[i, 1] = temps_min[i]\n",
    "    np_features[i, 2]  = temps_max[i]\n",
    "    np_features[i, 3]  = month_arr[i]\n"
   ]
  },
  {
   "cell_type": "code",
   "execution_count": 16,
   "metadata": {},
   "outputs": [
    {
     "name": "stdout",
     "output_type": "stream",
     "text": [
      "Coefficients: \n",
      " [ 0.03033648 -0.01892898 -0.01855107  0.00239188]\n",
      "Mean squared error: 0.02185707\n",
      "Coefficient of determination: 0.04\n"
     ]
    }
   ],
   "source": [
    "#Training:\n",
    "\n",
    "# Split the data into training/testing sets\n",
    "X_train_comb = np_features[:-6322]\n",
    "X_test_comb = np_features[-6322:]\n",
    "\n",
    "# Split the targets into training/testing sets\n",
    "y_train = npEn_con[:-6322]\n",
    "y_test = npEn_con[-6322:]\n",
    "\n",
    "\n",
    "# Create linear regression object\n",
    "regr_comb = linear_model.LinearRegression()\n",
    "\n",
    "# Train the model using the training sets\n",
    "regr_comb.fit(X_train_comb, y_train)\n",
    "\n",
    "\n",
    "# Make predictions using the testing set\n",
    "y_pred_comb = regr_comb.predict(X_test_comb)\n",
    "\n",
    "\n",
    "# The coefficients\n",
    "print('Coefficients: \\n', regr_comb.coef_)\n",
    "# The mean squared error\n",
    "print('Mean squared error: %.8f'\n",
    "      % mean_squared_error(y_test, y_pred_comb))\n",
    "# The coefficient of determination: 1 is perfect prediction\n",
    "print('Coefficient of determination: %.2f'\n",
    "      % r2_score(y_test, y_pred_comb))"
   ]
  },
  {
   "cell_type": "code",
   "execution_count": 17,
   "metadata": {},
   "outputs": [
    {
     "data": {
      "image/png": "[encoded data removed]",
      "text/plain": [
       "<Figure size 432x288 with 1 Axes>"
      ]
     },
     "metadata": {
      "needs_background": "light"
     },
     "output_type": "display_data"
    }
   ],
   "source": [
    "# Plot outputs\n",
    "plt.scatter(X_test, y_test,  color='black', label = \"consumption\")\n",
    "plt.plot(X_test, y_pred_comb, color='blue', linewidth=1, label = \"linear regression\")\n",
    "plt.legend()\n",
    "plt.xlabel(\"temperatures\")\n",
    "plt.ylabel(\"consumption\")\n",
    "plt.show()"
   ]
  },
  {
   "cell_type": "code",
   "execution_count": 19,
   "metadata": {},
   "outputs": [
    {
     "data": {
      "image/png": "[encoded data removed]",
      "text/plain": [
       "<Figure size 432x288 with 1 Axes>"
      ]
     },
     "metadata": {
      "needs_background": "light"
     },
     "output_type": "display_data"
    }
   ],
   "source": [
    "months_test = npmonth_arr[-6322: ]\n",
    "# Plot outputs\n",
    "plt.scatter(months_test, y_test,  color='black', label = \"consumption\")\n",
    "plt.scatter(months_test, y_pred_comb, color='blue', label = \"linear regression\")\n",
    "plt.legend()\n",
    "plt.xlabel(\"months\")\n",
    "plt.ylabel(\"consumption\")\n",
    "plt.show()"
   ]
  },
  {
   "cell_type": "markdown",
   "metadata": {},
   "source": [
    "### Polynomial Regression:"
   ]
  },
  {
   "cell_type": "code",
   "execution_count": 20,
   "metadata": {},
   "outputs": [
    {
     "name": "stdout",
     "output_type": "stream",
     "text": [
      "(14752,)\n"
     ]
    },
    {
     "data": {
      "text/plain": [
       "(14752, 1)"
      ]
     },
     "execution_count": 20,
     "metadata": {},
     "output_type": "execute_result"
    }
   ],
   "source": [
    "train_months=npmonth_arr[:-6322]\n",
    "print(train_months.shape)\n",
    "train_months=train_months.reshape(-1, 1)\n",
    "train_months.shape"
   ]
  },
  {
   "cell_type": "code",
   "execution_count": 21,
   "metadata": {},
   "outputs": [],
   "source": [
    "# Split the data into training/testing sets\n",
    "X_train_comb = np_features[:-6322]\n",
    "X_test_comb = np_features[-6322:]\n",
    "\n",
    "# Split the targets into training/testing sets\n",
    "y_train = npEn_con[:-6322]\n",
    "y_test = npEn_con[-6322:]\n"
   ]
  },
  {
   "cell_type": "code",
   "execution_count": 22,
   "metadata": {},
   "outputs": [
    {
     "data": {
      "image/png": "[encoded data removed]",
      "text/plain": [
       "<Figure size 432x288 with 1 Axes>"
      ]
     },
     "metadata": {
      "needs_background": "light"
     },
     "output_type": "display_data"
    },
    {
     "name": "stdout",
     "output_type": "stream",
     "text": [
      "Coefficients: \n",
      " [ 0.00000000e+00  3.31725821e-01 -1.87500184e-01 -1.55793193e-01\n",
      " -1.23532130e-02 -1.74015439e-02  4.83795998e-02 -1.85114853e-02\n",
      "  9.03505755e-04 -2.11992614e-02 -3.94942126e-03  6.73582317e-05\n",
      "  1.27433111e-02 -7.78005312e-04  1.01614182e-03]\n",
      "Mean squared error: 0.02180203\n",
      "Coefficient of determination: 0.04709585\n"
     ]
    }
   ],
   "source": [
    "# Fitting Polynomial Regression to the dataset\n",
    "# source: https://towardsdatascience.com/machine-learning-polynomial-regression-with-python-5328e4e8a386\n",
    "from sklearn.preprocessing import PolynomialFeatures\n",
    "# Create polynomial regression object\n",
    "polynom_degree = 2\n",
    "\n",
    "poly_reg = PolynomialFeatures(degree = polynom_degree)\n",
    "\n",
    "X_poly = poly_reg.fit_transform(X_train_comb) # Fit to data, then transform it to \n",
    "    #a new feature matrix consisting ofall polynomial combinations of the features\n",
    "\n",
    "pol_reg = LinearRegression()\n",
    "\n",
    "# Train the model using the training sets\n",
    "pol_reg.fit(X_poly, y_train)\n",
    "\n",
    "# polyfitting the training data:\n",
    "poly_vals = pol_reg.predict(poly_reg.fit_transform(X_train_comb))\n",
    "\n",
    "# Make predictions using the testing set\n",
    "y_pred_poly = pol_reg.predict(poly_reg.fit_transform(X_test_comb))\n",
    "\n",
    "# Visualizing the Polymonial Regression results\n",
    "def viz_polymonial():\n",
    "    plt.scatter(X_train, y_train, color='blue')\n",
    "    plt.scatter(X_train, poly_vals, color='black')\n",
    "    plt.xlabel('temperature')\n",
    "    plt.ylabel('consumption')\n",
    "    plt.title(\"polynomial fit with order \" +str(polynom_degree))\n",
    "    plt.show()\n",
    "    return\n",
    "viz_polymonial()\n",
    "# The coefficients\n",
    "print('Coefficients: \\n', pol_reg.coef_)\n",
    "# The mean squared error\n",
    "print('Mean squared error: %.8f'\n",
    "      % mean_squared_error(y_test, y_pred_poly))\n",
    "# The coefficient of determination: 1 is perfect prediction\n",
    "print('Coefficient of determination: %.8f'\n",
    "      % r2_score(y_test, y_pred_poly))"
   ]
  },
  {
   "cell_type": "code",
   "execution_count": 23,
   "metadata": {},
   "outputs": [
    {
     "data": {
      "image/png": "[encoded data removed]",
      "text/plain": [
       "<Figure size 432x288 with 1 Axes>"
      ]
     },
     "metadata": {
      "needs_background": "light"
     },
     "output_type": "display_data"
    }
   ],
   "source": [
    "plt.scatter(train_months, y_train, color='red')\n",
    "plt.scatter(train_months, poly_vals, color='blue')\n",
    "plt.xlabel('months')\n",
    "plt.ylabel('consumption')\n",
    "plt.title(\"polynomial fit with order \" +str(polynom_degree))\n",
    "plt.show()"
   ]
  },
  {
   "cell_type": "code",
   "execution_count": 24,
   "metadata": {},
   "outputs": [
    {
     "name": "stdout",
     "output_type": "stream",
     "text": [
      "number of users with+NaN bedroom info =  3248\n",
      "number of users with NaN bedroom info =  1389\n",
      "percentage of NaN values in num_bedrooms =  0.42764778325123154\n",
      "(21074, 4)\n"
     ]
    }
   ],
   "source": [
    "brinfo=info_sorted['num_bedrooms']\n",
    "br_NaNs_number = brinfo.isnull().sum()\n",
    "print(\"number of users with+NaN bedroom info = \", brinfo.shape[0])\n",
    "print(\"number of users with NaN bedroom info = \", br_NaNs_number)\n",
    "print(\"percentage of NaN values in num_bedrooms = \", br_NaNs_number/brinfo.shape[0])\n",
    "print(np_features.shape)"
   ]
  },
  {
   "cell_type": "code",
   "execution_count": 29,
   "metadata": {},
   "outputs": [
    {
     "data": {
      "text/html": [
       "<div>\n",
       "<style scoped>\n",
       "    .dataframe tbody tr th:only-of-type {\n",
       "        vertical-align: middle;\n",
       "    }\n",
       "\n",
       "    .dataframe tbody tr th {\n",
       "        vertical-align: top;\n",
       "    }\n",
       "\n",
       "    .dataframe thead th {\n",
       "        text-align: right;\n",
       "    }\n",
       "</style>\n",
       "<table border=\"1\" class=\"dataframe\">\n",
       "  <thead>\n",
       "    <tr style=\"text-align: right;\">\n",
       "      <th></th>\n",
       "      <th>dwelling_type</th>\n",
       "      <th>num_occupants</th>\n",
       "      <th>num_bedrooms</th>\n",
       "      <th>heating_fuel</th>\n",
       "      <th>hot_water_fuel</th>\n",
       "      <th>boiler_age</th>\n",
       "      <th>loft_insulation</th>\n",
       "      <th>wall_insulation</th>\n",
       "      <th>heating_temperature</th>\n",
       "      <th>efficient_lighting_percentage</th>\n",
       "      <th>...</th>\n",
       "      <th>refrigerator</th>\n",
       "      <th>tumble_dryer</th>\n",
       "      <th>washing_machine</th>\n",
       "      <th>game_console</th>\n",
       "      <th>laptop</th>\n",
       "      <th>pc</th>\n",
       "      <th>router</th>\n",
       "      <th>set_top_box</th>\n",
       "      <th>tablet</th>\n",
       "      <th>tv</th>\n",
       "    </tr>\n",
       "    <tr>\n",
       "      <th>meter_id</th>\n",
       "      <th></th>\n",
       "      <th></th>\n",
       "      <th></th>\n",
       "      <th></th>\n",
       "      <th></th>\n",
       "      <th></th>\n",
       "      <th></th>\n",
       "      <th></th>\n",
       "      <th></th>\n",
       "      <th></th>\n",
       "      <th></th>\n",
       "      <th></th>\n",
       "      <th></th>\n",
       "      <th></th>\n",
       "      <th></th>\n",
       "      <th></th>\n",
       "      <th></th>\n",
       "      <th></th>\n",
       "      <th></th>\n",
       "      <th></th>\n",
       "      <th></th>\n",
       "    </tr>\n",
       "  </thead>\n",
       "  <tbody>\n",
       "    <tr>\n",
       "      <th>0xa62b9f23553ff183f61e2bf943aab3d5983d02d7</th>\n",
       "      <td>terraced_house</td>\n",
       "      <td>NaN</td>\n",
       "      <td>2.000000</td>\n",
       "      <td>NaN</td>\n",
       "      <td>NaN</td>\n",
       "      <td>NaN</td>\n",
       "      <td>NaN</td>\n",
       "      <td>NaN</td>\n",
       "      <td>NaN</td>\n",
       "      <td>NaN</td>\n",
       "      <td>...</td>\n",
       "      <td>NaN</td>\n",
       "      <td>NaN</td>\n",
       "      <td>NaN</td>\n",
       "      <td>NaN</td>\n",
       "      <td>NaN</td>\n",
       "      <td>NaN</td>\n",
       "      <td>NaN</td>\n",
       "      <td>NaN</td>\n",
       "      <td>NaN</td>\n",
       "      <td>NaN</td>\n",
       "    </tr>\n",
       "    <tr>\n",
       "      <th>0x459c834d1f6cfb5b734b82aa9f5410fa97fb70da</th>\n",
       "      <td>NaN</td>\n",
       "      <td>NaN</td>\n",
       "      <td>3.103012</td>\n",
       "      <td>NaN</td>\n",
       "      <td>NaN</td>\n",
       "      <td>NaN</td>\n",
       "      <td>NaN</td>\n",
       "      <td>NaN</td>\n",
       "      <td>NaN</td>\n",
       "      <td>NaN</td>\n",
       "      <td>...</td>\n",
       "      <td>NaN</td>\n",
       "      <td>NaN</td>\n",
       "      <td>NaN</td>\n",
       "      <td>NaN</td>\n",
       "      <td>NaN</td>\n",
       "      <td>NaN</td>\n",
       "      <td>NaN</td>\n",
       "      <td>NaN</td>\n",
       "      <td>NaN</td>\n",
       "      <td>NaN</td>\n",
       "    </tr>\n",
       "    <tr>\n",
       "      <th>0x4a1ed36825360a058cec2bdd409fc2459e1ce54f</th>\n",
       "      <td>NaN</td>\n",
       "      <td>NaN</td>\n",
       "      <td>3.103012</td>\n",
       "      <td>NaN</td>\n",
       "      <td>NaN</td>\n",
       "      <td>NaN</td>\n",
       "      <td>NaN</td>\n",
       "      <td>NaN</td>\n",
       "      <td>NaN</td>\n",
       "      <td>NaN</td>\n",
       "      <td>...</td>\n",
       "      <td>NaN</td>\n",
       "      <td>NaN</td>\n",
       "      <td>NaN</td>\n",
       "      <td>NaN</td>\n",
       "      <td>NaN</td>\n",
       "      <td>NaN</td>\n",
       "      <td>NaN</td>\n",
       "      <td>NaN</td>\n",
       "      <td>NaN</td>\n",
       "      <td>NaN</td>\n",
       "    </tr>\n",
       "    <tr>\n",
       "      <th>0x5b76d3c0e0aefc6e0a8d1d031f96388a23263407</th>\n",
       "      <td>NaN</td>\n",
       "      <td>NaN</td>\n",
       "      <td>3.103012</td>\n",
       "      <td>NaN</td>\n",
       "      <td>NaN</td>\n",
       "      <td>NaN</td>\n",
       "      <td>NaN</td>\n",
       "      <td>NaN</td>\n",
       "      <td>NaN</td>\n",
       "      <td>NaN</td>\n",
       "      <td>...</td>\n",
       "      <td>NaN</td>\n",
       "      <td>NaN</td>\n",
       "      <td>NaN</td>\n",
       "      <td>NaN</td>\n",
       "      <td>NaN</td>\n",
       "      <td>NaN</td>\n",
       "      <td>NaN</td>\n",
       "      <td>NaN</td>\n",
       "      <td>NaN</td>\n",
       "      <td>NaN</td>\n",
       "    </tr>\n",
       "    <tr>\n",
       "      <th>0x943ebe39ef2be6ef807c42c5a647e27112ca5b0f</th>\n",
       "      <td>NaN</td>\n",
       "      <td>NaN</td>\n",
       "      <td>3.103012</td>\n",
       "      <td>NaN</td>\n",
       "      <td>NaN</td>\n",
       "      <td>NaN</td>\n",
       "      <td>NaN</td>\n",
       "      <td>NaN</td>\n",
       "      <td>NaN</td>\n",
       "      <td>NaN</td>\n",
       "      <td>...</td>\n",
       "      <td>NaN</td>\n",
       "      <td>NaN</td>\n",
       "      <td>NaN</td>\n",
       "      <td>NaN</td>\n",
       "      <td>NaN</td>\n",
       "      <td>NaN</td>\n",
       "      <td>NaN</td>\n",
       "      <td>NaN</td>\n",
       "      <td>NaN</td>\n",
       "      <td>NaN</td>\n",
       "    </tr>\n",
       "    <tr>\n",
       "      <th>...</th>\n",
       "      <td>...</td>\n",
       "      <td>...</td>\n",
       "      <td>...</td>\n",
       "      <td>...</td>\n",
       "      <td>...</td>\n",
       "      <td>...</td>\n",
       "      <td>...</td>\n",
       "      <td>...</td>\n",
       "      <td>...</td>\n",
       "      <td>...</td>\n",
       "      <td>...</td>\n",
       "      <td>...</td>\n",
       "      <td>...</td>\n",
       "      <td>...</td>\n",
       "      <td>...</td>\n",
       "      <td>...</td>\n",
       "      <td>...</td>\n",
       "      <td>...</td>\n",
       "      <td>...</td>\n",
       "      <td>...</td>\n",
       "      <td>...</td>\n",
       "    </tr>\n",
       "    <tr>\n",
       "      <th>0x7dd7a7b8ee1bec7c44b24f738c752482f6161065</th>\n",
       "      <td>NaN</td>\n",
       "      <td>NaN</td>\n",
       "      <td>3.103012</td>\n",
       "      <td>NaN</td>\n",
       "      <td>NaN</td>\n",
       "      <td>NaN</td>\n",
       "      <td>NaN</td>\n",
       "      <td>NaN</td>\n",
       "      <td>NaN</td>\n",
       "      <td>NaN</td>\n",
       "      <td>...</td>\n",
       "      <td>NaN</td>\n",
       "      <td>NaN</td>\n",
       "      <td>NaN</td>\n",
       "      <td>NaN</td>\n",
       "      <td>NaN</td>\n",
       "      <td>NaN</td>\n",
       "      <td>NaN</td>\n",
       "      <td>NaN</td>\n",
       "      <td>NaN</td>\n",
       "      <td>NaN</td>\n",
       "    </tr>\n",
       "    <tr>\n",
       "      <th>0xfdaf9f857621ec06f2cf801f42a020a322835090</th>\n",
       "      <td>NaN</td>\n",
       "      <td>NaN</td>\n",
       "      <td>3.103012</td>\n",
       "      <td>NaN</td>\n",
       "      <td>NaN</td>\n",
       "      <td>NaN</td>\n",
       "      <td>NaN</td>\n",
       "      <td>NaN</td>\n",
       "      <td>NaN</td>\n",
       "      <td>NaN</td>\n",
       "      <td>...</td>\n",
       "      <td>NaN</td>\n",
       "      <td>NaN</td>\n",
       "      <td>NaN</td>\n",
       "      <td>NaN</td>\n",
       "      <td>NaN</td>\n",
       "      <td>NaN</td>\n",
       "      <td>NaN</td>\n",
       "      <td>NaN</td>\n",
       "      <td>NaN</td>\n",
       "      <td>NaN</td>\n",
       "    </tr>\n",
       "    <tr>\n",
       "      <th>0xd28f2f001e0cd4d6c121a3cb2e1427207e170e18</th>\n",
       "      <td>terraced_house</td>\n",
       "      <td>NaN</td>\n",
       "      <td>3.103012</td>\n",
       "      <td>NaN</td>\n",
       "      <td>NaN</td>\n",
       "      <td>NaN</td>\n",
       "      <td>NaN</td>\n",
       "      <td>NaN</td>\n",
       "      <td>NaN</td>\n",
       "      <td>NaN</td>\n",
       "      <td>...</td>\n",
       "      <td>NaN</td>\n",
       "      <td>NaN</td>\n",
       "      <td>NaN</td>\n",
       "      <td>NaN</td>\n",
       "      <td>NaN</td>\n",
       "      <td>NaN</td>\n",
       "      <td>NaN</td>\n",
       "      <td>NaN</td>\n",
       "      <td>NaN</td>\n",
       "      <td>NaN</td>\n",
       "    </tr>\n",
       "    <tr>\n",
       "      <th>0x47218b46abb2fcaade487a211911406dc6e13730</th>\n",
       "      <td>NaN</td>\n",
       "      <td>NaN</td>\n",
       "      <td>3.103012</td>\n",
       "      <td>NaN</td>\n",
       "      <td>NaN</td>\n",
       "      <td>NaN</td>\n",
       "      <td>NaN</td>\n",
       "      <td>NaN</td>\n",
       "      <td>NaN</td>\n",
       "      <td>NaN</td>\n",
       "      <td>...</td>\n",
       "      <td>NaN</td>\n",
       "      <td>NaN</td>\n",
       "      <td>NaN</td>\n",
       "      <td>NaN</td>\n",
       "      <td>NaN</td>\n",
       "      <td>NaN</td>\n",
       "      <td>NaN</td>\n",
       "      <td>NaN</td>\n",
       "      <td>NaN</td>\n",
       "      <td>NaN</td>\n",
       "    </tr>\n",
       "    <tr>\n",
       "      <th>0xcd19e6fe3d887bc5dcac7ca18d46199695463fdd</th>\n",
       "      <td>NaN</td>\n",
       "      <td>NaN</td>\n",
       "      <td>3.103012</td>\n",
       "      <td>NaN</td>\n",
       "      <td>NaN</td>\n",
       "      <td>NaN</td>\n",
       "      <td>NaN</td>\n",
       "      <td>NaN</td>\n",
       "      <td>NaN</td>\n",
       "      <td>NaN</td>\n",
       "      <td>...</td>\n",
       "      <td>NaN</td>\n",
       "      <td>NaN</td>\n",
       "      <td>NaN</td>\n",
       "      <td>NaN</td>\n",
       "      <td>NaN</td>\n",
       "      <td>NaN</td>\n",
       "      <td>NaN</td>\n",
       "      <td>NaN</td>\n",
       "      <td>NaN</td>\n",
       "      <td>NaN</td>\n",
       "    </tr>\n",
       "  </tbody>\n",
       "</table>\n",
       "<p>3248 rows × 23 columns</p>\n",
       "</div>"
      ],
      "text/plain": [
       "                                             dwelling_type  num_occupants  \\\n",
       "meter_id                                                                    \n",
       "0xa62b9f23553ff183f61e2bf943aab3d5983d02d7  terraced_house            NaN   \n",
       "0x459c834d1f6cfb5b734b82aa9f5410fa97fb70da             NaN            NaN   \n",
       "0x4a1ed36825360a058cec2bdd409fc2459e1ce54f             NaN            NaN   \n",
       "0x5b76d3c0e0aefc6e0a8d1d031f96388a23263407             NaN            NaN   \n",
       "0x943ebe39ef2be6ef807c42c5a647e27112ca5b0f             NaN            NaN   \n",
       "...                                                    ...            ...   \n",
       "0x7dd7a7b8ee1bec7c44b24f738c752482f6161065             NaN            NaN   \n",
       "0xfdaf9f857621ec06f2cf801f42a020a322835090             NaN            NaN   \n",
       "0xd28f2f001e0cd4d6c121a3cb2e1427207e170e18  terraced_house            NaN   \n",
       "0x47218b46abb2fcaade487a211911406dc6e13730             NaN            NaN   \n",
       "0xcd19e6fe3d887bc5dcac7ca18d46199695463fdd             NaN            NaN   \n",
       "\n",
       "                                            num_bedrooms heating_fuel  \\\n",
       "meter_id                                                                \n",
       "0xa62b9f23553ff183f61e2bf943aab3d5983d02d7      2.000000          NaN   \n",
       "0x459c834d1f6cfb5b734b82aa9f5410fa97fb70da      3.103012          NaN   \n",
       "0x4a1ed36825360a058cec2bdd409fc2459e1ce54f      3.103012          NaN   \n",
       "0x5b76d3c0e0aefc6e0a8d1d031f96388a23263407      3.103012          NaN   \n",
       "0x943ebe39ef2be6ef807c42c5a647e27112ca5b0f      3.103012          NaN   \n",
       "...                                                  ...          ...   \n",
       "0x7dd7a7b8ee1bec7c44b24f738c752482f6161065      3.103012          NaN   \n",
       "0xfdaf9f857621ec06f2cf801f42a020a322835090      3.103012          NaN   \n",
       "0xd28f2f001e0cd4d6c121a3cb2e1427207e170e18      3.103012          NaN   \n",
       "0x47218b46abb2fcaade487a211911406dc6e13730      3.103012          NaN   \n",
       "0xcd19e6fe3d887bc5dcac7ca18d46199695463fdd      3.103012          NaN   \n",
       "\n",
       "                                           hot_water_fuel boiler_age  \\\n",
       "meter_id                                                               \n",
       "0xa62b9f23553ff183f61e2bf943aab3d5983d02d7            NaN        NaN   \n",
       "0x459c834d1f6cfb5b734b82aa9f5410fa97fb70da            NaN        NaN   \n",
       "0x4a1ed36825360a058cec2bdd409fc2459e1ce54f            NaN        NaN   \n",
       "0x5b76d3c0e0aefc6e0a8d1d031f96388a23263407            NaN        NaN   \n",
       "0x943ebe39ef2be6ef807c42c5a647e27112ca5b0f            NaN        NaN   \n",
       "...                                                   ...        ...   \n",
       "0x7dd7a7b8ee1bec7c44b24f738c752482f6161065            NaN        NaN   \n",
       "0xfdaf9f857621ec06f2cf801f42a020a322835090            NaN        NaN   \n",
       "0xd28f2f001e0cd4d6c121a3cb2e1427207e170e18            NaN        NaN   \n",
       "0x47218b46abb2fcaade487a211911406dc6e13730            NaN        NaN   \n",
       "0xcd19e6fe3d887bc5dcac7ca18d46199695463fdd            NaN        NaN   \n",
       "\n",
       "                                           loft_insulation wall_insulation  \\\n",
       "meter_id                                                                     \n",
       "0xa62b9f23553ff183f61e2bf943aab3d5983d02d7             NaN             NaN   \n",
       "0x459c834d1f6cfb5b734b82aa9f5410fa97fb70da             NaN             NaN   \n",
       "0x4a1ed36825360a058cec2bdd409fc2459e1ce54f             NaN             NaN   \n",
       "0x5b76d3c0e0aefc6e0a8d1d031f96388a23263407             NaN             NaN   \n",
       "0x943ebe39ef2be6ef807c42c5a647e27112ca5b0f             NaN             NaN   \n",
       "...                                                    ...             ...   \n",
       "0x7dd7a7b8ee1bec7c44b24f738c752482f6161065             NaN             NaN   \n",
       "0xfdaf9f857621ec06f2cf801f42a020a322835090             NaN             NaN   \n",
       "0xd28f2f001e0cd4d6c121a3cb2e1427207e170e18             NaN             NaN   \n",
       "0x47218b46abb2fcaade487a211911406dc6e13730             NaN             NaN   \n",
       "0xcd19e6fe3d887bc5dcac7ca18d46199695463fdd             NaN             NaN   \n",
       "\n",
       "                                           heating_temperature  \\\n",
       "meter_id                                                         \n",
       "0xa62b9f23553ff183f61e2bf943aab3d5983d02d7                 NaN   \n",
       "0x459c834d1f6cfb5b734b82aa9f5410fa97fb70da                 NaN   \n",
       "0x4a1ed36825360a058cec2bdd409fc2459e1ce54f                 NaN   \n",
       "0x5b76d3c0e0aefc6e0a8d1d031f96388a23263407                 NaN   \n",
       "0x943ebe39ef2be6ef807c42c5a647e27112ca5b0f                 NaN   \n",
       "...                                                        ...   \n",
       "0x7dd7a7b8ee1bec7c44b24f738c752482f6161065                 NaN   \n",
       "0xfdaf9f857621ec06f2cf801f42a020a322835090                 NaN   \n",
       "0xd28f2f001e0cd4d6c121a3cb2e1427207e170e18                 NaN   \n",
       "0x47218b46abb2fcaade487a211911406dc6e13730                 NaN   \n",
       "0xcd19e6fe3d887bc5dcac7ca18d46199695463fdd                 NaN   \n",
       "\n",
       "                                           efficient_lighting_percentage  ...  \\\n",
       "meter_id                                                                  ...   \n",
       "0xa62b9f23553ff183f61e2bf943aab3d5983d02d7                           NaN  ...   \n",
       "0x459c834d1f6cfb5b734b82aa9f5410fa97fb70da                           NaN  ...   \n",
       "0x4a1ed36825360a058cec2bdd409fc2459e1ce54f                           NaN  ...   \n",
       "0x5b76d3c0e0aefc6e0a8d1d031f96388a23263407                           NaN  ...   \n",
       "0x943ebe39ef2be6ef807c42c5a647e27112ca5b0f                           NaN  ...   \n",
       "...                                                                  ...  ...   \n",
       "0x7dd7a7b8ee1bec7c44b24f738c752482f6161065                           NaN  ...   \n",
       "0xfdaf9f857621ec06f2cf801f42a020a322835090                           NaN  ...   \n",
       "0xd28f2f001e0cd4d6c121a3cb2e1427207e170e18                           NaN  ...   \n",
       "0x47218b46abb2fcaade487a211911406dc6e13730                           NaN  ...   \n",
       "0xcd19e6fe3d887bc5dcac7ca18d46199695463fdd                           NaN  ...   \n",
       "\n",
       "                                            refrigerator  tumble_dryer  \\\n",
       "meter_id                                                                 \n",
       "0xa62b9f23553ff183f61e2bf943aab3d5983d02d7           NaN           NaN   \n",
       "0x459c834d1f6cfb5b734b82aa9f5410fa97fb70da           NaN           NaN   \n",
       "0x4a1ed36825360a058cec2bdd409fc2459e1ce54f           NaN           NaN   \n",
       "0x5b76d3c0e0aefc6e0a8d1d031f96388a23263407           NaN           NaN   \n",
       "0x943ebe39ef2be6ef807c42c5a647e27112ca5b0f           NaN           NaN   \n",
       "...                                                  ...           ...   \n",
       "0x7dd7a7b8ee1bec7c44b24f738c752482f6161065           NaN           NaN   \n",
       "0xfdaf9f857621ec06f2cf801f42a020a322835090           NaN           NaN   \n",
       "0xd28f2f001e0cd4d6c121a3cb2e1427207e170e18           NaN           NaN   \n",
       "0x47218b46abb2fcaade487a211911406dc6e13730           NaN           NaN   \n",
       "0xcd19e6fe3d887bc5dcac7ca18d46199695463fdd           NaN           NaN   \n",
       "\n",
       "                                            washing_machine  game_console  \\\n",
       "meter_id                                                                    \n",
       "0xa62b9f23553ff183f61e2bf943aab3d5983d02d7              NaN           NaN   \n",
       "0x459c834d1f6cfb5b734b82aa9f5410fa97fb70da              NaN           NaN   \n",
       "0x4a1ed36825360a058cec2bdd409fc2459e1ce54f              NaN           NaN   \n",
       "0x5b76d3c0e0aefc6e0a8d1d031f96388a23263407              NaN           NaN   \n",
       "0x943ebe39ef2be6ef807c42c5a647e27112ca5b0f              NaN           NaN   \n",
       "...                                                     ...           ...   \n",
       "0x7dd7a7b8ee1bec7c44b24f738c752482f6161065              NaN           NaN   \n",
       "0xfdaf9f857621ec06f2cf801f42a020a322835090              NaN           NaN   \n",
       "0xd28f2f001e0cd4d6c121a3cb2e1427207e170e18              NaN           NaN   \n",
       "0x47218b46abb2fcaade487a211911406dc6e13730              NaN           NaN   \n",
       "0xcd19e6fe3d887bc5dcac7ca18d46199695463fdd              NaN           NaN   \n",
       "\n",
       "                                            laptop  pc  router  set_top_box  \\\n",
       "meter_id                                                                      \n",
       "0xa62b9f23553ff183f61e2bf943aab3d5983d02d7     NaN NaN     NaN          NaN   \n",
       "0x459c834d1f6cfb5b734b82aa9f5410fa97fb70da     NaN NaN     NaN          NaN   \n",
       "0x4a1ed36825360a058cec2bdd409fc2459e1ce54f     NaN NaN     NaN          NaN   \n",
       "0x5b76d3c0e0aefc6e0a8d1d031f96388a23263407     NaN NaN     NaN          NaN   \n",
       "0x943ebe39ef2be6ef807c42c5a647e27112ca5b0f     NaN NaN     NaN          NaN   \n",
       "...                                            ...  ..     ...          ...   \n",
       "0x7dd7a7b8ee1bec7c44b24f738c752482f6161065     NaN NaN     NaN          NaN   \n",
       "0xfdaf9f857621ec06f2cf801f42a020a322835090     NaN NaN     NaN          NaN   \n",
       "0xd28f2f001e0cd4d6c121a3cb2e1427207e170e18     NaN NaN     NaN          NaN   \n",
       "0x47218b46abb2fcaade487a211911406dc6e13730     NaN NaN     NaN          NaN   \n",
       "0xcd19e6fe3d887bc5dcac7ca18d46199695463fdd     NaN NaN     NaN          NaN   \n",
       "\n",
       "                                            tablet  tv  \n",
       "meter_id                                                \n",
       "0xa62b9f23553ff183f61e2bf943aab3d5983d02d7     NaN NaN  \n",
       "0x459c834d1f6cfb5b734b82aa9f5410fa97fb70da     NaN NaN  \n",
       "0x4a1ed36825360a058cec2bdd409fc2459e1ce54f     NaN NaN  \n",
       "0x5b76d3c0e0aefc6e0a8d1d031f96388a23263407     NaN NaN  \n",
       "0x943ebe39ef2be6ef807c42c5a647e27112ca5b0f     NaN NaN  \n",
       "...                                            ...  ..  \n",
       "0x7dd7a7b8ee1bec7c44b24f738c752482f6161065     NaN NaN  \n",
       "0xfdaf9f857621ec06f2cf801f42a020a322835090     NaN NaN  \n",
       "0xd28f2f001e0cd4d6c121a3cb2e1427207e170e18     NaN NaN  \n",
       "0x47218b46abb2fcaade487a211911406dc6e13730     NaN NaN  \n",
       "0xcd19e6fe3d887bc5dcac7ca18d46199695463fdd     NaN NaN  \n",
       "\n",
       "[3248 rows x 23 columns]"
      ]
     },
     "execution_count": 29,
     "metadata": {},
     "output_type": "execute_result"
    }
   ],
   "source": [
    "#Getting the mean for the training set:\n",
    "\n",
    "# # Filling the mean value for the NaN values in num_bedrooms column:\n",
    "# # We should include the mean value of the training data not the whole data.\n",
    "\n",
    "br_arr_training = br_arr[:-6322]\n",
    "\n",
    "\n",
    "#convert it to numpy:\n",
    "npbr_arr_training = np.zeros(len(br_arr_training)) #converting it into numpy array.\n",
    "for i in range(len(br_arr_training)):\n",
    "    npbr_arr_training[i] = br_arr[i]\n",
    "    \n",
    "#ignore NaN values:\n",
    "npbr_arr_training_ = npbr_arr_training[np.logical_not(np.isnan(npbr_arr_training))] \n",
    "#get the mean of the training data\n",
    "mean_br_arr_training = npbr_arr_training_.mean()\n",
    "\n",
    "values = {'num_bedrooms' : mean_br_arr_training}\n",
    "info_filled_br = info_sorted.fillna(value = values)\n",
    "\n",
    "info_filled_br"
   ]
  },
  {
   "cell_type": "code",
   "execution_count": 30,
   "metadata": {},
   "outputs": [
    {
     "name": "stdout",
     "output_type": "stream",
     "text": [
      "(35826,)\n",
      "(14752,)\n"
     ]
    }
   ],
   "source": [
    "print(npbr_arr_training.shape)\n",
    "npEn_con_training = npEn_con[: -6322]\n",
    "print(npEn_con_training.shape)"
   ]
  },
  {
   "cell_type": "code",
   "execution_count": 32,
   "metadata": {},
   "outputs": [
    {
     "data": {
      "text/plain": [
       "array([2.        , 3.10301193, 3.10301193, ..., 3.10301193, 3.10301193,\n",
       "       3.10301193])"
      ]
     },
     "execution_count": 32,
     "metadata": {},
     "output_type": "execute_result"
    }
   ],
   "source": [
    "npbr_arr = np.zeros(len(br_arr)) #converting it into numpy array.\n",
    "\n",
    "for i in range(len(br_arr)):\n",
    "    npbr_arr[i] = br_arr[i]\n",
    "    \n",
    "#filling npbr_arr with the mean value of the training data\n",
    "\n",
    "npbr_arr_filled =np.nan_to_num(npbr_arr, copy=True, nan=mean_br_arr_training, posinf=None, neginf=None)\n",
    "npbr_arr_filled\n"
   ]
  },
  {
   "cell_type": "markdown",
   "metadata": {},
   "source": [
    "#### Linear and polynomial multivariate regression"
   ]
  },
  {
   "cell_type": "code",
   "execution_count": 33,
   "metadata": {},
   "outputs": [],
   "source": [
    "combinefeatures=[]\n",
    "for i in range(len(temps)):\n",
    "    temp=[]\n",
    "    temp.append(temps[i])\n",
    "    temp.append(temps_min[i])\n",
    "    temp.append(temps_max[i])\n",
    "    temp.append(month_arr[i])\n",
    "    temp.append(npbr_arr_filled[i]) #filled with the average of training data.\n",
    "    combinefeatures.append(temp)\n",
    "    \n",
    "npcombinefeatures=np.array(combinefeatures)\n",
    "npcombinefeatures=npcombinefeatures.reshape(-1,5)"
   ]
  },
  {
   "cell_type": "code",
   "execution_count": 34,
   "metadata": {},
   "outputs": [
    {
     "data": {
      "text/plain": [
       "3.110089373849711"
      ]
     },
     "execution_count": 34,
     "metadata": {},
     "output_type": "execute_result"
    }
   ],
   "source": [
    "brinfo_sorted_dim = npcombinefeatures[:, 4]\n",
    "brinfo_sorted_dim[:-6322].mean()"
   ]
  },
  {
   "cell_type": "code",
   "execution_count": 35,
   "metadata": {},
   "outputs": [
    {
     "name": "stdout",
     "output_type": "stream",
     "text": [
      "Coefficients: \n",
      " [ 0.02840793 -0.01707619 -0.01829429  0.00225276  0.04837594]\n",
      "Mean squared error: 0.02132022\n",
      "Coefficient of determination: 0.07\n"
     ]
    }
   ],
   "source": [
    "#Linear regression: \n",
    "# Split the data into training/testing sets\n",
    "X_train_comb = npcombinefeatures[:-6322]\n",
    "X_test_comb = npcombinefeatures[-6322:]\n",
    "\n",
    "# Split the targets into training/testing sets\n",
    "y_train = npEn_con[:-6322]\n",
    "y_test = npEn_con[-6322:]\n",
    "\n",
    "\n",
    "# Create linear regression object\n",
    "regr_comb = linear_model.LinearRegression()\n",
    "\n",
    "# Train the model using the training sets\n",
    "regr_comb.fit(X_train_comb, y_train)\n",
    "\n",
    "\n",
    "# Make predictions using the testing set\n",
    "y_pred_comb = regr_comb.predict(X_test_comb)\n",
    "\n",
    "# The coefficients\n",
    "print('Coefficients: \\n', regr_comb.coef_)\n",
    "# The mean squared error\n",
    "print('Mean squared error: %.8f'\n",
    "      % mean_squared_error(y_test, y_pred_comb))\n",
    "# The coefficient of determination: 1 is perfect prediction\n",
    "print('Coefficient of determination: %.2f'\n",
    "      % r2_score(y_test, y_pred_comb))"
   ]
  },
  {
   "cell_type": "code",
   "execution_count": 36,
   "metadata": {},
   "outputs": [
    {
     "data": {
      "image/png": "[encoded data removed]",
      "text/plain": [
       "<Figure size 432x288 with 1 Axes>"
      ]
     },
     "metadata": {
      "needs_background": "light"
     },
     "output_type": "display_data"
    }
   ],
   "source": [
    "plt.scatter(X_test, y_test,  color='black', label = \"consumption\")\n",
    "plt.plot(X_test, y_pred_comb, color='blue', linewidth=1, label = \"linear regression\")\n",
    "plt.legend()\n",
    "plt.xlabel(\"temperatures\")\n",
    "plt.ylabel(\"consumption\")\n",
    "plt.show()"
   ]
  },
  {
   "cell_type": "code",
   "execution_count": 37,
   "metadata": {},
   "outputs": [
    {
     "data": {
      "image/png": "[encoded data removed]",
      "text/plain": [
       "<Figure size 432x288 with 1 Axes>"
      ]
     },
     "metadata": {
      "needs_background": "light"
     },
     "output_type": "display_data"
    }
   ],
   "source": [
    "test_br = npcombinefeatures[:, 4][-6322:]\n",
    "plt.scatter(test_br, y_test,  color='black', label = \"consumption\")\n",
    "plt.scatter(test_br, y_pred_comb, color='blue', linewidth=1, label = \"linear regression\")\n",
    "plt.legend()\n",
    "plt.xlabel(\"number of bedrooms\")\n",
    "plt.ylabel(\"consumption\")\n",
    "plt.show()"
   ]
  },
  {
   "cell_type": "code",
   "execution_count": 38,
   "metadata": {},
   "outputs": [
    {
     "data": {
      "image/png": "[encoded data removed]",
      "text/plain": [
       "<Figure size 432x288 with 1 Axes>"
      ]
     },
     "metadata": {
      "needs_background": "light"
     },
     "output_type": "display_data"
    },
    {
     "name": "stdout",
     "output_type": "stream",
     "text": [
      "Coefficients: \n",
      " [ 0.00000000e+00  3.08288348e-01 -1.65887655e-01 -1.48024577e-01\n",
      " -8.88065408e-03  6.41935985e-03  9.90160359e-03  1.86788209e-02\n",
      " -4.39168681e-02 -1.05737375e-03  8.88215593e-03 -1.30772267e-02\n",
      "  9.74524479e-03  9.22780071e-04 -6.25004011e-03  1.87381674e-02\n",
      "  3.01023758e-04 -4.53283100e-03  9.49873080e-04 -1.08363292e-03\n",
      "  1.01405462e-02]\n",
      "Mean squared error: 0.02123692\n",
      "Coefficient of determination: 0.07179495\n"
     ]
    }
   ],
   "source": [
    "#Polynomial regression:\n",
    "\n",
    "X_train_comb = npcombinefeatures[:-6322]\n",
    "X_test_comb = npcombinefeatures[-6322:]\n",
    "\n",
    "# Split the targets into training/testing sets\n",
    "y_train = npEn_con[:-6322]\n",
    "y_test = npEn_con[-6322:]\n",
    "\n",
    "\n",
    "\n",
    "# Fitting Polynomial Regression to the dataset\n",
    "# source: https://towardsdatascience.com/machine-learning-polynomial-regression-with-python-5328e4e8a386\n",
    "from sklearn.preprocessing import PolynomialFeatures\n",
    "# Create polynomial regression object\n",
    "polynom_degree = 2\n",
    "\n",
    "poly_reg = PolynomialFeatures(degree = polynom_degree)\n",
    "\n",
    "X_poly = poly_reg.fit_transform(X_train_comb) # Fit to data, then transform it to \n",
    "    #a new feature matrix consisting ofall polynomial combinations of the features\n",
    "\n",
    "pol_reg = LinearRegression()\n",
    "\n",
    "# Train the model using the training sets\n",
    "pol_reg.fit(X_poly, y_train)\n",
    "\n",
    "# polyfitting the training data:\n",
    "poly_vals = pol_reg.predict(poly_reg.fit_transform(X_train_comb))\n",
    "\n",
    "# Make predictions using the testing set\n",
    "y_pred_poly = pol_reg.predict(poly_reg.fit_transform(X_test_comb))\n",
    "\n",
    "# Visualizing the Polymonial Regression results\n",
    "def viz_polymonial():\n",
    "    plt.scatter(X_train, y_train, color='blue')\n",
    "    plt.scatter(X_train, poly_vals, color='black')\n",
    "    plt.xlabel('temperature')\n",
    "    plt.ylabel('consumption')\n",
    "    plt.title(\"polynomial fit with order \" +str(polynom_degree))\n",
    "    plt.show()\n",
    "    return\n",
    "viz_polymonial()\n",
    "# The coefficients\n",
    "print('Coefficients: \\n', pol_reg.coef_)\n",
    "# The mean squared error\n",
    "print('Mean squared error: %.8f'\n",
    "      % mean_squared_error(y_test, y_pred_poly))\n",
    "# The coefficient of determination: 1 is perfect prediction\n",
    "print('Coefficient of determination: %.8f'\n",
    "      % r2_score(y_test, y_pred_poly))"
   ]
  },
  {
   "cell_type": "code",
   "execution_count": 39,
   "metadata": {},
   "outputs": [
    {
     "data": {
      "image/png": "[encoded data removed]",
      "text/plain": [
       "<Figure size 432x288 with 1 Axes>"
      ]
     },
     "metadata": {
      "needs_background": "light"
     },
     "output_type": "display_data"
    }
   ],
   "source": [
    "plt.scatter(test_br, y_test,  color='black', label = \"consumption\")\n",
    "plt.plot(test_br, y_pred_poly, color='blue', linewidth=1, label = \"polynomial regression\")\n",
    "plt.legend()\n",
    "plt.xlabel(\"number of bedrooms\")\n",
    "plt.ylabel(\"consumption\")\n",
    "plt.show()"
   ]
  },
  {
   "cell_type": "code",
   "execution_count": 41,
   "metadata": {},
   "outputs": [
    {
     "name": "stdout",
     "output_type": "stream",
     "text": [
      "non scaled =  meter_id\n",
      "0xa62b9f23553ff183f61e2bf943aab3d5983d02d7    4.681048\n",
      "dtype: float64\n",
      "non scaled =  4.681048387096775\n",
      "scaled =  -1.468143153102461\n"
     ]
    }
   ],
   "source": [
    "#Feature Scaling:\n",
    "\n",
    "from sklearn import preprocessing\n",
    "X_train_comb = npcombinefeatures[:-6322]\n",
    "X_test_comb = npcombinefeatures[-6322:]\n",
    "\n",
    "# Split the targets into training/testing sets\n",
    "y_train = npEn_con[:-6322]\n",
    "y_test = npEn_con[-6322:]\n",
    "\n",
    "\n",
    "X_scaled_train = preprocessing.scale(X_train_comb)\n",
    "X_scaled_test = preprocessing.scale(X_test_comb)\n",
    "\n",
    "y_scaled_train = preprocessing.scale(y_train)\n",
    "y_scaled_test = preprocessing.scale(y_test)\n",
    "\n",
    "#X_train_comb[i][0]    #= average temperature\n",
    "X_train_comb[:, 0] # = average temperature.\n",
    "print(\"non scaled = \", X_train_comb[0][0])\n",
    "print(\"non scaled = \", X_train[0][0])\n",
    "print(\"scaled = \", X_scaled_train[0][0])\n",
    "X_scaled_train[:, 0] # = average temperatures scaled.\n",
    "avg_temps_scaled = X_scaled_train[:, 0] "
   ]
  },
  {
   "cell_type": "code",
   "execution_count": 42,
   "metadata": {},
   "outputs": [
    {
     "data": {
      "image/png": "[encoded data removed]",
      "text/plain": [
       "<Figure size 432x288 with 1 Axes>"
      ]
     },
     "metadata": {
      "needs_background": "light"
     },
     "output_type": "display_data"
    },
    {
     "name": "stdout",
     "output_type": "stream",
     "text": [
      "Coefficients: \n",
      " [ 0.          1.67878311 -0.81477857 -1.057434    0.08038899  0.17137966\n",
      "  1.38302219  2.32887653 -6.9911382  -0.08187927  0.14997426 -1.45541235\n",
      "  1.38478603  0.06378478 -0.09420079  3.39966837  0.02656679 -0.08722898\n",
      "  0.04077865 -0.01014384  0.02069829]\n",
      "Mean squared error: 0.93233182\n",
      "Coefficient of determination: 0.06766818\n"
     ]
    }
   ],
   "source": [
    "#Polynomial regression:\n",
    "\n",
    "# Fitting Polynomial Regression to the dataset\n",
    "# source: https://towardsdatascience.com/machine-learning-polynomial-regression-with-python-5328e4e8a386\n",
    "from sklearn.preprocessing import PolynomialFeatures\n",
    "# Create polynomial regression object\n",
    "polynom_degree = 2\n",
    "\n",
    "poly_reg = PolynomialFeatures(degree = polynom_degree)\n",
    "\n",
    "X_poly = poly_reg.fit_transform(X_scaled_train) # Fit to data, then transform it to \n",
    "    #a new feature matrix consisting ofall polynomial combinations of the features\n",
    "\n",
    "pol_reg = LinearRegression()\n",
    "\n",
    "# Train the model using the training sets\n",
    "pol_reg.fit(X_poly, y_scaled_train)\n",
    "\n",
    "# polyfitting the training data:\n",
    "poly_vals = pol_reg.predict(poly_reg.fit_transform(X_scaled_train))\n",
    "\n",
    "# Make predictions using the testing set\n",
    "y_pred_poly = pol_reg.predict(poly_reg.fit_transform(X_scaled_test))\n",
    "\n",
    "# Visualizing the Polymonial Regression results\n",
    "def viz_polymonial():\n",
    "    plt.scatter(avg_temps_scaled, y_scaled_train, color='blue')\n",
    "    plt.scatter(avg_temps_scaled, poly_vals, color='black')\n",
    "    plt.xlabel('temperature')\n",
    "    plt.ylabel('consumption')\n",
    "    plt.title(\"polynomial fit with order \" +str(polynom_degree))\n",
    "    plt.show()\n",
    "    return\n",
    "viz_polymonial()\n",
    "# The coefficients\n",
    "print('Coefficients: \\n', pol_reg.coef_)\n",
    "# The mean squared error\n",
    "print('Mean squared error: %.8f'\n",
    "      % mean_squared_error(y_scaled_test, y_pred_poly))\n",
    "# The coefficient of determination: 1 is perfect prediction\n",
    "print('Coefficient of determination: %.8f'\n",
    "      % r2_score(y_scaled_test, y_pred_poly))"
   ]
  },
  {
   "cell_type": "code",
   "execution_count": 43,
   "metadata": {
    "scrolled": true
   },
   "outputs": [
    {
     "data": {
      "image/png": "[encoded data removed]",
      "text/plain": [
       "<Figure size 432x288 with 1 Axes>"
      ]
     },
     "metadata": {
      "needs_background": "light"
     },
     "output_type": "display_data"
    },
    {
     "name": "stdout",
     "output_type": "stream",
     "text": [
      "Coefficients: \n",
      " [ 0.          0.23307805 -0.11312182 -0.14681149  0.01116101  0.02379392\n",
      "  0.19201534  0.3233354  -0.97063216 -0.01136791  0.02082205 -0.20206581\n",
      "  0.19226023  0.00885572 -0.0130786   0.47200146  0.00368847 -0.01211065\n",
      "  0.00566161 -0.00140835  0.0028737 ]\n",
      "Mean squared error: 0.02137801\n",
      "Coefficient of determination: 0.06562828\n"
     ]
    }
   ],
   "source": [
    "#Not scaling consumption:\n",
    "\n",
    "#Polynomial regression:\n",
    "\n",
    "# Fitting Polynomial Regression to the dataset\n",
    "# source: https://towardsdatascience.com/machine-learning-polynomial-regression-with-python-5328e4e8a386\n",
    "from sklearn.preprocessing import PolynomialFeatures\n",
    "# Create polynomial regression object\n",
    "polynom_degree = 2\n",
    "\n",
    "poly_reg = PolynomialFeatures(degree = polynom_degree)\n",
    "\n",
    "X_poly = poly_reg.fit_transform(X_scaled_train) # Fit to data, then transform it to \n",
    "    #a new feature matrix consisting ofall polynomial combinations of the features\n",
    "\n",
    "pol_reg = LinearRegression()\n",
    "\n",
    "# Train the model using the training sets\n",
    "pol_reg.fit(X_poly, y_train)\n",
    "\n",
    "# polyfitting the training data:\n",
    "poly_vals = pol_reg.predict(poly_reg.fit_transform(X_scaled_train))\n",
    "\n",
    "# Make predictions using the testing set\n",
    "y_pred_poly = pol_reg.predict(poly_reg.fit_transform(X_scaled_test))\n",
    "\n",
    "# Visualizing the Polymonial Regression results\n",
    "def viz_polymonial():\n",
    "    plt.scatter(avg_temps_scaled, y_train, color='blue')\n",
    "    plt.scatter(avg_temps_scaled, poly_vals, color='black')\n",
    "    plt.xlabel('temperature')\n",
    "    plt.ylabel('consumption')\n",
    "    plt.title(\"polynomial fit with order \" +str(polynom_degree))\n",
    "    plt.show()\n",
    "    return\n",
    "viz_polymonial()\n",
    "# The coefficients\n",
    "print('Coefficients: \\n', pol_reg.coef_)\n",
    "# The mean squared error\n",
    "print('Mean squared error: %.8f'\n",
    "      % mean_squared_error(y_test, y_pred_poly))\n",
    "# The coefficient of determination: 1 is perfect prediction\n",
    "print('Coefficient of determination: %.8f'\n",
    "      % r2_score(y_test, y_pred_poly))"
   ]
  },
  {
   "cell_type": "code",
   "execution_count": 44,
   "metadata": {},
   "outputs": [
    {
     "name": "stdout",
     "output_type": "stream",
     "text": [
      "Coefficients: \n",
      " [ 0.12509927 -0.06712425 -0.09181711  0.00549986  0.0257525 ]\n",
      "Mean squared error: 0.02112762\n",
      "Coefficient of determination: 0.08\n"
     ]
    }
   ],
   "source": [
    "#Lin reg. with feature scaling:\n",
    "\n",
    "# Create linear regression object\n",
    "regr_comb_sc = linear_model.LinearRegression()\n",
    "\n",
    "# Train the model using the training sets\n",
    "regr_comb_sc.fit(X_scaled_train, y_train)\n",
    "\n",
    "\n",
    "# Make predictions using the testing set\n",
    "y_pred_comb_sc = regr_comb_sc.predict(X_scaled_test)\n",
    "\n",
    "# The coefficients\n",
    "print('Coefficients: \\n', regr_comb_sc.coef_)\n",
    "# The mean squared error\n",
    "print('Mean squared error: %.8f'\n",
    "      % mean_squared_error(y_test, y_pred_comb_sc))\n",
    "# The coefficient of determination: 1 is perfect prediction\n",
    "print('Coefficient of determination: %.2f'\n",
    "      % r2_score(y_test, y_pred_comb_sc))"
   ]
  }
 ],
 "metadata": {
  "kernelspec": {
   "display_name": "Python 3",
   "language": "python",
   "name": "python3"
  },
  "language_info": {
   "codemirror_mode": {
    "name": "ipython",
    "version": 3
   },
   "file_extension": ".py",
   "mimetype": "text/x-python",
   "name": "python",
   "nbconvert_exporter": "python",
   "pygments_lexer": "ipython3",
   "version": "3.6.12"
  }
 },
 "nbformat": 4,
 "nbformat_minor": 4
}
